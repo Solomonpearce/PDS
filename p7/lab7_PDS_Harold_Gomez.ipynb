{
 "cells": [
  {
   "cell_type": "markdown",
   "metadata": {},
   "source": [
    "\n",
    "\n",
    "```\n",
    "Practica 7: Transformada rapida de Fourier para señales discretas. \n",
    "Laboratorio: Procesamiento Digital de señales\n",
    "Harold Adrián Gómez Gil\n",
    "```\n"
   ]
  }
 ],
 "metadata": {
  "language_info": {
   "name": "python"
  },
  "orig_nbformat": 4
 },
 "nbformat": 4,
 "nbformat_minor": 2
}
