{
 "cells": [
  {
   "cell_type": "markdown",
   "metadata": {},
   "source": [
    "\n",
    "\n",
    "```\n",
    "Harold Adrián Gómez Gil - Universidad de Antioquia\n",
    "```\n",
    "\n",
    "```\n",
    "LABORATORIO PDS: Practica 2 : Muestreo, cuantización , señales Analogicas y digitales\n",
    "```\n",
    "\n"
   ]
  },
  {
   "cell_type": "markdown",
   "metadata": {},
   "source": [
    "<h1>INTRODUCCION</h1>\n",
    "<p>\n",
    "En este laboratorio vamos a aplicar los conceptos de muestreo y cuantificacióon de señnales. Para ello se\n",
    "usarían se˜ales de audio que se van a re-muestrear y re-cuantificar.\n",
    "En el procesamiento digital de se˜nales solo se pueden realizar operaciones aritm´eticas sobre un conjunto\n",
    "finito de n´umeros o observaciones. Para esto existe el muestreo, que consiste en tomar muestras de una se˜nal\n",
    "anal´ogica a una frecuencia o tasa de muestreo constante, siempre considerando el teorema de Nyquist.\n",
    "Por otro lado, la cuantificaci´on es el proceso de mapear valores de amplitud continua en un conjunto de\n",
    "valores contables (conjunto finito). Puede ser aplicado a se˜nales anal´ogicas o a se˜nales en tiempo discreto\n",
    "</p>"
   ]
  },
  {
   "cell_type": "code",
   "execution_count": 1,
   "metadata": {},
   "outputs": [],
   "source": [
    "from scipy.io.wavfile import read\n",
    "from IPython.display import Audio # para escuchar la senal\n",
    "import numpy as np\n",
    "import matplotlib.pyplot as plt\n",
    "from scipy .io. wavfile import write\n",
    "from scipy.signal import resample\n"
   ]
  },
  {
   "cell_type": "code",
   "execution_count": 19,
   "metadata": {},
   "outputs": [
    {
     "ename": "FileNotFoundError",
     "evalue": "[Errno 2] No such file or directory: 'p2/3.wav'",
     "output_type": "error",
     "traceback": [
      "\u001b[1;31m---------------------------------------------------------------------------\u001b[0m",
      "\u001b[1;31mFileNotFoundError\u001b[0m                         Traceback (most recent call last)",
      "Cell \u001b[1;32mIn[19], line 2\u001b[0m\n\u001b[0;32m      1\u001b[0m file_audio\u001b[39m=\u001b[39m(\u001b[39m\"\u001b[39m\u001b[39mp2/3.wav\u001b[39m\u001b[39m\"\u001b[39m)\n\u001b[1;32m----> 2\u001b[0m fs,x\u001b[39m=\u001b[39mread(file_audio)\n",
      "File \u001b[1;32mc:\\Users\\Asus\\OneDrive - Universidad de Antioquia\\Documentos\\proyect\\workspace\\PDS_lab\\PDS\\PDS\\lib\\site-packages\\scipy\\io\\wavfile.py:647\u001b[0m, in \u001b[0;36mread\u001b[1;34m(filename, mmap)\u001b[0m\n\u001b[0;32m    645\u001b[0m     mmap \u001b[39m=\u001b[39m \u001b[39mFalse\u001b[39;00m\n\u001b[0;32m    646\u001b[0m \u001b[39melse\u001b[39;00m:\n\u001b[1;32m--> 647\u001b[0m     fid \u001b[39m=\u001b[39m \u001b[39mopen\u001b[39;49m(filename, \u001b[39m'\u001b[39;49m\u001b[39mrb\u001b[39;49m\u001b[39m'\u001b[39;49m)\n\u001b[0;32m    649\u001b[0m \u001b[39mtry\u001b[39;00m:\n\u001b[0;32m    650\u001b[0m     file_size, is_big_endian \u001b[39m=\u001b[39m _read_riff_chunk(fid)\n",
      "\u001b[1;31mFileNotFoundError\u001b[0m: [Errno 2] No such file or directory: 'p2/3.wav'"
     ]
    }
   ],
   "source": [
    "file_audio=(\"p2/3.wav\")\n",
    "fs,x=read(file_audio)"
   ]
  },
  {
   "cell_type": "markdown",
   "metadata": {},
   "source": [
    "<h2>MUESTREO</h2>"
   ]
  },
  {
   "cell_type": "code",
   "execution_count": 2,
   "metadata": {},
   "outputs": [
    {
     "ename": "NameError",
     "evalue": "name 'x' is not defined",
     "output_type": "error",
     "traceback": [
      "\u001b[1;31m---------------------------------------------------------------------------\u001b[0m",
      "\u001b[1;31mNameError\u001b[0m                                 Traceback (most recent call last)",
      "Cell \u001b[1;32mIn[2], line 1\u001b[0m\n\u001b[1;32m----> 1\u001b[0m t\u001b[39m=\u001b[39mnp\u001b[39m.\u001b[39marange(\u001b[39m0\u001b[39m,\u001b[39mlen\u001b[39m(x)\u001b[39m/\u001b[39mfs,\u001b[39m1.0\u001b[39m\u001b[39m/\u001b[39mfs)\n\u001b[0;32m      2\u001b[0m norm\u001b[39m=\u001b[39m x\u001b[39m/\u001b[39m\u001b[39mmax\u001b[39m(x)\u001b[39m#normalización de la absisa de amplitud\u001b[39;00m\n\u001b[0;32m      3\u001b[0m plt\u001b[39m.\u001b[39mfigure(figsize\u001b[39m=\u001b[39m(\u001b[39m10\u001b[39m,\u001b[39m15\u001b[39m)) \u001b[39m#Modificaciónes del figuresize.\u001b[39;00m\n",
      "\u001b[1;31mNameError\u001b[0m: name 'x' is not defined"
     ]
    }
   ],
   "source": [
    "\n",
    "t=np.arange(0,len(x)/fs,1.0/fs)\n",
    "norm= x/max(x)#normalización de la absisa de amplitud\n",
    "plt.figure(figsize=(10,15)) #Modificaciónes del figuresize.\n",
    "plt.subplot(3,1,1)\n",
    "plt.plot(t,norm)\n",
    "plt.title('señal de audio 3.')\n",
    "plt.xlabel('tiempo')\n",
    "plt.ylabel('Amplitud')\n",
    "plt.grid()\n",
    "Audio(x,rate=fs)"
   ]
  }
 ],
 "metadata": {
  "kernelspec": {
   "display_name": "PDS",
   "language": "python",
   "name": "python3"
  },
  "language_info": {
   "codemirror_mode": {
    "name": "ipython",
    "version": 3
   },
   "file_extension": ".py",
   "mimetype": "text/x-python",
   "name": "python",
   "nbconvert_exporter": "python",
   "pygments_lexer": "ipython3",
   "version": "3.10.9"
  },
  "orig_nbformat": 4
 },
 "nbformat": 4,
 "nbformat_minor": 2
}
